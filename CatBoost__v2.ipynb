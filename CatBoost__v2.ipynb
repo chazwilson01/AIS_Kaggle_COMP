{
 "cells": [
  {
   "cell_type": "code",
   "execution_count": 1,
   "metadata": {
    "id": "ah3CM4UDZK9V"
   },
   "outputs": [],
   "source": [
    "import pandas as pd\n",
    "import numpy as np\n",
    "import matplotlib.pyplot as plt\n",
    "from sklearn import set_config\n",
    "from sklearn.model_selection import RandomizedSearchCV\n",
    "from xgboost import XGBClassifier, plot_importance\n",
    "from scipy import stats"
   ]
  },
  {
   "cell_type": "code",
   "execution_count": 2,
   "metadata": {
    "id": "XEWQ-ADFeYh2"
   },
   "outputs": [],
   "source": [
    "train_df =  pd.read_csv(\"full_training_df.csv\")\n"
   ]
  },
  {
   "cell_type": "code",
   "execution_count": 3,
   "metadata": {
    "id": "Mk9e0WMwfvbN"
   },
   "outputs": [],
   "source": [
    "df_9 = train_df[train_df['modben'] != 9]\n",
    "\n",
    "df_dropna_modben = df_9.dropna(subset=['modben'])"
   ]
  },
  {
   "cell_type": "code",
   "execution_count": 4,
   "metadata": {
    "id": "nDTY6HXigUga"
   },
   "outputs": [],
   "source": [
    "X = df_dropna_modben.drop(columns=['PID', \"modben\"]).copy()\n",
    "cat_features = [\"age_category\", \"sexcd\", \"bmi_category\", \"srdecc1\", \"surgcd1\", \"spcsuc1\", \"scdecc1\",\n",
    "                      \"hemccd1\", \"mhpsyccd\", \"mhneurcd\", \"mhcardcd\", \"mhmetacd\", \"tx1_r\", \"ais1\", \"ais4\", \"ais8\", \"ais16\"]\n"
   ]
  },
  {
   "cell_type": "code",
   "execution_count": 5,
   "metadata": {
    "id": "4odOhdOAgjoK"
   },
   "outputs": [],
   "source": [
    "y = df_dropna_modben[\"modben\"]\n",
    "for col in cat_features:\n",
    "    X[col] = X[col].astype(str).fillna(\"missing\")\n",
    "\n",
    "y = y.astype(str).fillna(\"missing\")"
   ]
  },
  {
   "cell_type": "code",
   "execution_count": 6,
   "metadata": {
    "colab": {
     "base_uri": "https://localhost:8080/"
    },
    "id": "LhhVCLOLgMnf",
    "outputId": "66e30b2b-c3a5-4a6f-de19-b13f967d9607"
   },
   "outputs": [
    {
     "name": "stdout",
     "output_type": "stream",
     "text": [
      "0:\tlearn: 0.3619166\ttest: 0.3159071\tbest: 0.3159071 (0)\ttotal: 316ms\tremaining: 3m 8s\n",
      "Stopped by overfitting detector  (20 iterations wait)\n",
      "\n",
      "bestTest = 0.6530265621\n",
      "bestIteration = 49\n",
      "\n",
      "Shrink model to first 50 iterations.\n"
     ]
    },
    {
     "data": {
      "text/plain": [
       "<catboost.core.CatBoostClassifier at 0x22cd54d53a0>"
      ]
     },
     "execution_count": 6,
     "metadata": {},
     "output_type": "execute_result"
    }
   ],
   "source": [
    "from catboost import CatBoostClassifier\n",
    "from sklearn.model_selection import train_test_split\n",
    "from sklearn.metrics import accuracy_score\n",
    "from sklearn.metrics import f1_score\n",
    "from sklearn.model_selection import cross_val_score\n",
    "\n",
    "\n",
    "# Split data\n",
    "X_train, X_val, y_train, y_val = train_test_split(X, y, stratify=y, test_size=0.2, random_state=42)\n",
    "\n",
    "# Define model\n",
    "model = CatBoostClassifier(\n",
    "    iterations=600,\n",
    "    learning_rate=0.05,\n",
    "    depth=5,\n",
    "    loss_function='MultiClass',  # use 'Logloss' for binary classification\n",
    "    eval_metric='TotalF1',\n",
    "    verbose=100,\n",
    "    early_stopping_rounds=20,\n",
    "    boosting_type='Ordered',\n",
    "    random_seed=20,\n",
    "    auto_class_weights='Balanced',\n",
    "\n",
    ")\n",
    "\n",
    "# # Train\n",
    "\n",
    "model.fit(X_train, y_train, eval_set=(X_val, y_val), cat_features=cat_features)\n",
    "\n",
    "\n"
   ]
  },
  {
   "cell_type": "code",
   "execution_count": 7,
   "metadata": {
    "id": "LP5KKZ4dgMsc"
   },
   "outputs": [],
   "source": [
    "Modben_missing = train_df[(train_df['modben'] == 9) | (train_df['modben'].isna())]"
   ]
  },
  {
   "cell_type": "code",
   "execution_count": 8,
   "metadata": {
    "id": "xsWckEGMFOht"
   },
   "outputs": [],
   "source": [
    "X_na_test = Modben_missing.drop(columns=['PID', \"modben\"]).copy()\n",
    "for col in X_na_test.columns:\n",
    "    # Ensure all values in cat_features columns are strings\n",
    "    X_na_test[col] = X_na_test[col].astype(str).fillna(\"missing\")\n",
    "    # Explicitly convert any remaining numeric types to string\n",
    "    X_na_test[col] = X_na_test[col].apply(str)\n",
    "\n",
    "na_pred = model.predict(X_na_test)"
   ]
  },
  {
   "cell_type": "code",
   "execution_count": 9,
   "metadata": {
    "colab": {
     "base_uri": "https://localhost:8080/"
    },
    "id": "Ow4HUQlCFxj5",
    "outputId": "560c0a4c-1508-4ec9-d309-77528b10eb87"
   },
   "outputs": [
    {
     "data": {
      "text/plain": [
       "array(['1.0'], dtype=object)"
      ]
     },
     "execution_count": 9,
     "metadata": {},
     "output_type": "execute_result"
    }
   ],
   "source": [
    "min(na_pred)"
   ]
  },
  {
   "cell_type": "code",
   "execution_count": 9,
   "metadata": {
    "colab": {
     "base_uri": "https://localhost:8080/"
    },
    "id": "4rBY_nJYgMub",
    "outputId": "d4c06f5d-09df-4c12-cfe9-f7979b24e21f"
   },
   "outputs": [
    {
     "name": "stderr",
     "output_type": "stream",
     "text": [
      "C:\\Users\\chazw\\AppData\\Local\\Temp\\ipykernel_50084\\358700435.py:1: PerformanceWarning: DataFrame is highly fragmented.  This is usually the result of calling `frame.insert` many times, which has poor performance.  Consider joining all columns at once using pd.concat(axis=1) instead. To get a de-fragmented frame, use `newframe = frame.copy()`\n",
      "  X_na_test[\"modben\"] = na_pred.flatten() # Flatten na_pred to a 1D array before assigning\n",
      "C:\\Users\\chazw\\AppData\\Local\\Temp\\ipykernel_50084\\358700435.py:2: PerformanceWarning: DataFrame is highly fragmented.  This is usually the result of calling `frame.insert` many times, which has poor performance.  Consider joining all columns at once using pd.concat(axis=1) instead. To get a de-fragmented frame, use `newframe = frame.copy()`\n",
      "  X_na_test[\"PID\"] = Modben_missing[\"PID\"]\n"
     ]
    }
   ],
   "source": [
    "X_na_test[\"modben\"] = na_pred.flatten() # Flatten na_pred to a 1D array before assigning\n",
    "X_na_test[\"PID\"] = Modben_missing[\"PID\"]"
   ]
  },
  {
   "cell_type": "code",
   "execution_count": 10,
   "metadata": {
    "colab": {
     "base_uri": "https://localhost:8080/",
     "height": 443
    },
    "id": "7JOjfmpngMw0",
    "outputId": "dfb15e93-5d06-4709-d1ad-057de82c9204"
   },
   "outputs": [
    {
     "data": {
      "text/html": [
       "<div>\n",
       "<style scoped>\n",
       "    .dataframe tbody tr th:only-of-type {\n",
       "        vertical-align: middle;\n",
       "    }\n",
       "\n",
       "    .dataframe tbody tr th {\n",
       "        vertical-align: top;\n",
       "    }\n",
       "\n",
       "    .dataframe thead th {\n",
       "        text-align: right;\n",
       "    }\n",
       "</style>\n",
       "<table border=\"1\" class=\"dataframe\">\n",
       "  <thead>\n",
       "    <tr style=\"text-align: right;\">\n",
       "      <th></th>\n",
       "      <th>elbfll01</th>\n",
       "      <th>wrextl01</th>\n",
       "      <th>elbexl01</th>\n",
       "      <th>finfll01</th>\n",
       "      <th>finabl01</th>\n",
       "      <th>hipfll01</th>\n",
       "      <th>kneexl01</th>\n",
       "      <th>ankdol01</th>\n",
       "      <th>gretol01</th>\n",
       "      <th>ankpll01</th>\n",
       "      <th>...</th>\n",
       "      <th>surgcd1</th>\n",
       "      <th>spcsuc1</th>\n",
       "      <th>scdecc1</th>\n",
       "      <th>hemccd1</th>\n",
       "      <th>mhpsyccd</th>\n",
       "      <th>mhneurcd</th>\n",
       "      <th>mhcardcd</th>\n",
       "      <th>mhmetacd</th>\n",
       "      <th>modben</th>\n",
       "      <th>PID</th>\n",
       "    </tr>\n",
       "  </thead>\n",
       "  <tbody>\n",
       "    <tr>\n",
       "      <th>21</th>\n",
       "      <td>5.0</td>\n",
       "      <td>4.0</td>\n",
       "      <td>4.0</td>\n",
       "      <td>4.0</td>\n",
       "      <td>4.0</td>\n",
       "      <td>3.0</td>\n",
       "      <td>4.0</td>\n",
       "      <td>4.0</td>\n",
       "      <td>4.0</td>\n",
       "      <td>4.0</td>\n",
       "      <td>...</td>\n",
       "      <td>1.0</td>\n",
       "      <td>0.0</td>\n",
       "      <td>0.0</td>\n",
       "      <td>0.0</td>\n",
       "      <td>0.0</td>\n",
       "      <td>1.0</td>\n",
       "      <td>1.0</td>\n",
       "      <td>0.0</td>\n",
       "      <td>4.0</td>\n",
       "      <td>PID_361</td>\n",
       "    </tr>\n",
       "    <tr>\n",
       "      <th>22</th>\n",
       "      <td>5.0</td>\n",
       "      <td>5.0</td>\n",
       "      <td>5.0</td>\n",
       "      <td>5.0</td>\n",
       "      <td>5.0</td>\n",
       "      <td>0.0</td>\n",
       "      <td>0.0</td>\n",
       "      <td>0.0</td>\n",
       "      <td>0.0</td>\n",
       "      <td>1.0</td>\n",
       "      <td>...</td>\n",
       "      <td>nan</td>\n",
       "      <td>nan</td>\n",
       "      <td>nan</td>\n",
       "      <td>nan</td>\n",
       "      <td>0.0</td>\n",
       "      <td>0.0</td>\n",
       "      <td>0.0</td>\n",
       "      <td>0.0</td>\n",
       "      <td>4.0</td>\n",
       "      <td>PID_74</td>\n",
       "    </tr>\n",
       "    <tr>\n",
       "      <th>36</th>\n",
       "      <td>5.0</td>\n",
       "      <td>5.0</td>\n",
       "      <td>5.0</td>\n",
       "      <td>5.0</td>\n",
       "      <td>5.0</td>\n",
       "      <td>0.0</td>\n",
       "      <td>0.0</td>\n",
       "      <td>0.0</td>\n",
       "      <td>0.0</td>\n",
       "      <td>0.0</td>\n",
       "      <td>...</td>\n",
       "      <td>nan</td>\n",
       "      <td>nan</td>\n",
       "      <td>nan</td>\n",
       "      <td>nan</td>\n",
       "      <td>0.0</td>\n",
       "      <td>0.0</td>\n",
       "      <td>0.0</td>\n",
       "      <td>0.0</td>\n",
       "      <td>4.0</td>\n",
       "      <td>PID_726</td>\n",
       "    </tr>\n",
       "    <tr>\n",
       "      <th>42</th>\n",
       "      <td>4.0</td>\n",
       "      <td>0.0</td>\n",
       "      <td>0.0</td>\n",
       "      <td>0.0</td>\n",
       "      <td>0.0</td>\n",
       "      <td>0.0</td>\n",
       "      <td>0.0</td>\n",
       "      <td>0.0</td>\n",
       "      <td>0.0</td>\n",
       "      <td>0.0</td>\n",
       "      <td>...</td>\n",
       "      <td>nan</td>\n",
       "      <td>nan</td>\n",
       "      <td>nan</td>\n",
       "      <td>nan</td>\n",
       "      <td>0.0</td>\n",
       "      <td>0.0</td>\n",
       "      <td>0.0</td>\n",
       "      <td>0.0</td>\n",
       "      <td>4.0</td>\n",
       "      <td>PID_770</td>\n",
       "    </tr>\n",
       "    <tr>\n",
       "      <th>46</th>\n",
       "      <td>4.0</td>\n",
       "      <td>1.0</td>\n",
       "      <td>0.0</td>\n",
       "      <td>0.0</td>\n",
       "      <td>0.0</td>\n",
       "      <td>0.0</td>\n",
       "      <td>0.0</td>\n",
       "      <td>0.0</td>\n",
       "      <td>0.0</td>\n",
       "      <td>0.0</td>\n",
       "      <td>...</td>\n",
       "      <td>1.0</td>\n",
       "      <td>0.0</td>\n",
       "      <td>1.0</td>\n",
       "      <td>0.0</td>\n",
       "      <td>0.0</td>\n",
       "      <td>0.0</td>\n",
       "      <td>0.0</td>\n",
       "      <td>0.0</td>\n",
       "      <td>4.0</td>\n",
       "      <td>PID_351</td>\n",
       "    </tr>\n",
       "    <tr>\n",
       "      <th>...</th>\n",
       "      <td>...</td>\n",
       "      <td>...</td>\n",
       "      <td>...</td>\n",
       "      <td>...</td>\n",
       "      <td>...</td>\n",
       "      <td>...</td>\n",
       "      <td>...</td>\n",
       "      <td>...</td>\n",
       "      <td>...</td>\n",
       "      <td>...</td>\n",
       "      <td>...</td>\n",
       "      <td>...</td>\n",
       "      <td>...</td>\n",
       "      <td>...</td>\n",
       "      <td>...</td>\n",
       "      <td>...</td>\n",
       "      <td>...</td>\n",
       "      <td>...</td>\n",
       "      <td>...</td>\n",
       "      <td>...</td>\n",
       "      <td>...</td>\n",
       "    </tr>\n",
       "    <tr>\n",
       "      <th>650</th>\n",
       "      <td>5.0</td>\n",
       "      <td>0.0</td>\n",
       "      <td>0.0</td>\n",
       "      <td>0.0</td>\n",
       "      <td>0.0</td>\n",
       "      <td>0.0</td>\n",
       "      <td>0.0</td>\n",
       "      <td>0.0</td>\n",
       "      <td>0.0</td>\n",
       "      <td>0.0</td>\n",
       "      <td>...</td>\n",
       "      <td>1.0</td>\n",
       "      <td>nan</td>\n",
       "      <td>1.0</td>\n",
       "      <td>0.0</td>\n",
       "      <td>0.0</td>\n",
       "      <td>0.0</td>\n",
       "      <td>1.0</td>\n",
       "      <td>0.0</td>\n",
       "      <td>1.0</td>\n",
       "      <td>PID_657</td>\n",
       "    </tr>\n",
       "    <tr>\n",
       "      <th>651</th>\n",
       "      <td>nan</td>\n",
       "      <td>nan</td>\n",
       "      <td>nan</td>\n",
       "      <td>nan</td>\n",
       "      <td>nan</td>\n",
       "      <td>nan</td>\n",
       "      <td>nan</td>\n",
       "      <td>nan</td>\n",
       "      <td>nan</td>\n",
       "      <td>nan</td>\n",
       "      <td>...</td>\n",
       "      <td>1.0</td>\n",
       "      <td>nan</td>\n",
       "      <td>1.0</td>\n",
       "      <td>0.0</td>\n",
       "      <td>0.0</td>\n",
       "      <td>0.0</td>\n",
       "      <td>0.0</td>\n",
       "      <td>0.0</td>\n",
       "      <td>4.0</td>\n",
       "      <td>PID_333</td>\n",
       "    </tr>\n",
       "    <tr>\n",
       "      <th>658</th>\n",
       "      <td>nan</td>\n",
       "      <td>nan</td>\n",
       "      <td>nan</td>\n",
       "      <td>nan</td>\n",
       "      <td>nan</td>\n",
       "      <td>nan</td>\n",
       "      <td>nan</td>\n",
       "      <td>nan</td>\n",
       "      <td>nan</td>\n",
       "      <td>nan</td>\n",
       "      <td>...</td>\n",
       "      <td>nan</td>\n",
       "      <td>nan</td>\n",
       "      <td>nan</td>\n",
       "      <td>nan</td>\n",
       "      <td>0.0</td>\n",
       "      <td>0.0</td>\n",
       "      <td>0.0</td>\n",
       "      <td>0.0</td>\n",
       "      <td>4.0</td>\n",
       "      <td>PID_579</td>\n",
       "    </tr>\n",
       "    <tr>\n",
       "      <th>661</th>\n",
       "      <td>4.0</td>\n",
       "      <td>0.0</td>\n",
       "      <td>0.0</td>\n",
       "      <td>0.0</td>\n",
       "      <td>0.0</td>\n",
       "      <td>0.0</td>\n",
       "      <td>0.0</td>\n",
       "      <td>0.0</td>\n",
       "      <td>0.0</td>\n",
       "      <td>0.0</td>\n",
       "      <td>...</td>\n",
       "      <td>1.0</td>\n",
       "      <td>0.0</td>\n",
       "      <td>1.0</td>\n",
       "      <td>0.0</td>\n",
       "      <td>0.0</td>\n",
       "      <td>0.0</td>\n",
       "      <td>0.0</td>\n",
       "      <td>0.0</td>\n",
       "      <td>4.0</td>\n",
       "      <td>PID_266</td>\n",
       "    </tr>\n",
       "    <tr>\n",
       "      <th>666</th>\n",
       "      <td>3.0</td>\n",
       "      <td>0.0</td>\n",
       "      <td>0.0</td>\n",
       "      <td>0.0</td>\n",
       "      <td>0.0</td>\n",
       "      <td>0.0</td>\n",
       "      <td>0.0</td>\n",
       "      <td>0.0</td>\n",
       "      <td>0.0</td>\n",
       "      <td>0.0</td>\n",
       "      <td>...</td>\n",
       "      <td>1.0</td>\n",
       "      <td>nan</td>\n",
       "      <td>0.0</td>\n",
       "      <td>0.0</td>\n",
       "      <td>0.0</td>\n",
       "      <td>0.0</td>\n",
       "      <td>0.0</td>\n",
       "      <td>0.0</td>\n",
       "      <td>1.0</td>\n",
       "      <td>PID_453</td>\n",
       "    </tr>\n",
       "  </tbody>\n",
       "</table>\n",
       "<p>114 rows × 556 columns</p>\n",
       "</div>"
      ],
      "text/plain": [
       "    elbfll01 wrextl01 elbexl01 finfll01 finabl01 hipfll01 kneexl01 ankdol01  \\\n",
       "21       5.0      4.0      4.0      4.0      4.0      3.0      4.0      4.0   \n",
       "22       5.0      5.0      5.0      5.0      5.0      0.0      0.0      0.0   \n",
       "36       5.0      5.0      5.0      5.0      5.0      0.0      0.0      0.0   \n",
       "42       4.0      0.0      0.0      0.0      0.0      0.0      0.0      0.0   \n",
       "46       4.0      1.0      0.0      0.0      0.0      0.0      0.0      0.0   \n",
       "..       ...      ...      ...      ...      ...      ...      ...      ...   \n",
       "650      5.0      0.0      0.0      0.0      0.0      0.0      0.0      0.0   \n",
       "651      nan      nan      nan      nan      nan      nan      nan      nan   \n",
       "658      nan      nan      nan      nan      nan      nan      nan      nan   \n",
       "661      4.0      0.0      0.0      0.0      0.0      0.0      0.0      0.0   \n",
       "666      3.0      0.0      0.0      0.0      0.0      0.0      0.0      0.0   \n",
       "\n",
       "    gretol01 ankpll01  ... surgcd1 spcsuc1 scdecc1 hemccd1 mhpsyccd mhneurcd  \\\n",
       "21       4.0      4.0  ...     1.0     0.0     0.0     0.0      0.0      1.0   \n",
       "22       0.0      1.0  ...     nan     nan     nan     nan      0.0      0.0   \n",
       "36       0.0      0.0  ...     nan     nan     nan     nan      0.0      0.0   \n",
       "42       0.0      0.0  ...     nan     nan     nan     nan      0.0      0.0   \n",
       "46       0.0      0.0  ...     1.0     0.0     1.0     0.0      0.0      0.0   \n",
       "..       ...      ...  ...     ...     ...     ...     ...      ...      ...   \n",
       "650      0.0      0.0  ...     1.0     nan     1.0     0.0      0.0      0.0   \n",
       "651      nan      nan  ...     1.0     nan     1.0     0.0      0.0      0.0   \n",
       "658      nan      nan  ...     nan     nan     nan     nan      0.0      0.0   \n",
       "661      0.0      0.0  ...     1.0     0.0     1.0     0.0      0.0      0.0   \n",
       "666      0.0      0.0  ...     1.0     nan     0.0     0.0      0.0      0.0   \n",
       "\n",
       "    mhcardcd mhmetacd modben      PID  \n",
       "21       1.0      0.0    4.0  PID_361  \n",
       "22       0.0      0.0    4.0   PID_74  \n",
       "36       0.0      0.0    4.0  PID_726  \n",
       "42       0.0      0.0    4.0  PID_770  \n",
       "46       0.0      0.0    4.0  PID_351  \n",
       "..       ...      ...    ...      ...  \n",
       "650      1.0      0.0    1.0  PID_657  \n",
       "651      0.0      0.0    4.0  PID_333  \n",
       "658      0.0      0.0    4.0  PID_579  \n",
       "661      0.0      0.0    4.0  PID_266  \n",
       "666      0.0      0.0    1.0  PID_453  \n",
       "\n",
       "[114 rows x 556 columns]"
      ]
     },
     "execution_count": 10,
     "metadata": {},
     "output_type": "execute_result"
    }
   ],
   "source": [
    "X_na_test"
   ]
  },
  {
   "cell_type": "code",
   "execution_count": 11,
   "metadata": {
    "id": "jN0iWby6gMy9"
   },
   "outputs": [],
   "source": [
    "final_test = pd.concat([df_dropna_modben, X_na_test])"
   ]
  },
  {
   "cell_type": "code",
   "execution_count": 13,
   "metadata": {
    "id": "ahG0-o3TgM1Z"
   },
   "outputs": [],
   "source": [
    "final_test.to_csv(\"full_training_df_W_pred.csv\", index=False)"
   ]
  },
  {
   "cell_type": "code",
   "execution_count": 12,
   "metadata": {
    "id": "uUXawOAZZXr2"
   },
   "outputs": [],
   "source": [
    "target_variables = [\"PID\", \"modben\", \"age_category\", \"sexcd\", \"bmi_category\", \"srdecc1\", \"surgcd1\", \"spcsuc1\", \"scdecc1\",\n",
    "                    \"hemccd1\", \"mhpsyccd\", \"mhneurcd\", \"mhcardcd\", \"mhmetacd\", \"tx1_r\", \"ais1\", \"elbfll01\", \"wrextl01\",\n",
    "                    \"elbexl01\", \"finfll01\", \"finabl01\", \"hipfll01\", \"kneexl01\", \"ankdol01\", \"gretol01\", \"ankpll01\",\n",
    "                    \"elbflr01\", \"wrextr01\", \"elbexr01\", \"finflr01\", \"finabr01\", \"hipflr01\", \"kneetr01\", \"ankdor01\",\n",
    "                    \"gretor01\", \"ankplr01\", \"c2ltl01\", \"c3ltl01\", \"c4ltl01\", \"c5ltl01\", \"c6ltl01\", \"c7ltl01\", \"c8ltl01\",\n",
    "                    \"t1ltl01\", \"t2ltl01\", \"t3ltl01\", \"t4ltl01\", \"t5ltl01\", \"t6ltl01\", \"t7ltl01\", \"t8ltl01\", \"t9ltl01\",\n",
    "                    \"t10ltl01\", \"t11ltl01\", \"t12ltl01\", \"l1ltl01\", \"l2ltl01\", \"l3ltl01\", \"l4ltl01\", \"l5ltl01\", \"s1ltl01\",\n",
    "                    \"s2ltl01\", \"s3ltl01\", \"s45ltl01\", \"c2ltr01\", \"c3ltr01\", \"c4ltr01\", \"c5ltr01\", \"c6ltr01\", \"c7ltr01\",\n",
    "                    \"c8ltr01\", \"t1ltr01\", \"t2ltr01\", \"t3ltr01\", \"t4ltr01\", \"t5ltr01\", \"t6ltr01\", \"t7ltr01\", \"t8ltr01\",\n",
    "                    \"t9ltr01\", \"t10ltr01\", \"t11ltr01\", \"t12ltr01\", \"l1ltr01\", \"l2ltr01\", \"l3ltr01\", \"l4ltr01\", \"l5ltr01\",\n",
    "                    \"s1ltr01\", \"s2ltr01\", \"s3ltr01\", \"s45ltr01\", \"c2ppl01\", \"c3ppl01\", \"c4ppl01\", \"c5ppl01\", \"c6ppl01\",\n",
    "                    \"c7ppl01\", \"c8ppl01\", \"t1ppl01\", \"t2ppl01\", \"t3ppl01\", \"t4ppl01\", \"t5ppl01\", \"t6ppl01\", \"t7ppl01\",\n",
    "                    \"t8ppl01\", \"t9ppl01\", \"t10ppl01\", \"t11ppl01\", \"t12ppl01\", \"l1ppl01\", \"l2ppl01\", \"l3ppl01\", \"l4ppl01\",\n",
    "                    \"l5ppl01\", \"s1ppl01\", \"s2ppl01\", \"s3ppl01\", \"s45ppl01\", \"c2ppr01\", \"c3ppr01\", \"c4ppr01\", \"c5ppr01\",\n",
    "                    \"c6ppr01\", \"c7ppr01\", \"c8ppr01\", \"t1ppr01\", \"t2ppr01\", \"t3ppr01\", \"t4ppr01\", \"t5ppr01\", \"t6ppr01\",\n",
    "                    \"t7ppr01\", \"t8ppr01\", \"t9ppr01\", \"t10ppr01\", \"t11ppr01\", \"t12ppr01\", \"l1ppr01\", \"l2ppr01\", \"l3ppr01\",\n",
    "                    \"l4ppr01\", \"l5ppr01\", \"s1ppr01\", \"s2ppr01\", \"s3ppr01\", \"s45ppr01\"]\n",
    "\n",
    "\n",
    "cat_features = [\"age_category\", \"sexcd\", \"bmi_category\", \"srdecc1\", \"surgcd1\", \"spcsuc1\", \"scdecc1\",\n",
    "                      \"hemccd1\", \"mhpsyccd\", \"mhneurcd\", \"mhcardcd\", \"mhmetacd\", \"tx1_r\", \"ais1\"]\n",
    "\n",
    "training_df = final_test[target_variables]"
   ]
  },
  {
   "cell_type": "code",
   "execution_count": 13,
   "metadata": {
    "id": "Nvhzzr0ZZXwd"
   },
   "outputs": [],
   "source": [
    "X = training_df.drop(columns=['PID', \"modben\"]).copy()\n",
    "y = training_df[\"modben\"]\n",
    "for col in cat_features:\n",
    "    X[col] = X[col].astype(str).fillna(\"missing\")\n",
    "\n",
    "y = y.astype(str).fillna(\"missing\")"
   ]
  },
  {
   "cell_type": "code",
   "execution_count": 14,
   "metadata": {
    "colab": {
     "base_uri": "https://localhost:8080/"
    },
    "collapsed": true,
    "id": "ZDovg67DZXy2",
    "jupyter": {
     "outputs_hidden": true
    },
    "outputId": "db495975-98ed-41ca-92b1-80b509d0f103"
   },
   "outputs": [
    {
     "name": "stdout",
     "output_type": "stream",
     "text": [
      "0:\tlearn: 0.2386233\ttest: 0.1994414\tbest: 0.1994414 (0)\ttotal: 159ms\tremaining: 1m 35s\n",
      "100:\tlearn: 0.4892254\ttest: 0.4155744\tbest: 0.4554351 (73)\ttotal: 11.2s\tremaining: 55.4s\n",
      "Stopped by overfitting detector  (50 iterations wait)\n",
      "\n",
      "bestTest = 0.4554350637\n",
      "bestIteration = 73\n",
      "\n",
      "Shrink model to first 74 iterations.\n"
     ]
    },
    {
     "data": {
      "text/plain": [
       "<catboost.core.CatBoostClassifier at 0x22cd61f07a0>"
      ]
     },
     "execution_count": 14,
     "metadata": {},
     "output_type": "execute_result"
    }
   ],
   "source": [
    "from catboost import CatBoostClassifier\n",
    "from sklearn.model_selection import train_test_split\n",
    "from sklearn.metrics import accuracy_score\n",
    "from sklearn.metrics import f1_score\n",
    "\n",
    "# Define model\n",
    "model = CatBoostClassifier(\n",
    "    iterations=600,\n",
    "    learning_rate=0.05,\n",
    "    depth=5,\n",
    "    loss_function='MultiClass',  # use 'Logloss' for binary classification\n",
    "    eval_metric='TotalF1',\n",
    "    verbose=100,\n",
    "    early_stopping_rounds=50,\n",
    "    boosting_type='Ordered',\n",
    "    random_seed=50,\n",
    "    auto_class_weights='Balanced',\n",
    "\n",
    ")\n",
    "# Split data\n",
    "X_train, X_val, y_train, y_val = train_test_split(X, y, stratify=y, test_size=0.2, random_state=42)\n",
    "\n",
    "\n",
    "model.fit(X_train, y_train, eval_set=(X_val, y_val), cat_features=cat_features)\n",
    "\n",
    "\n"
   ]
  },
  {
   "cell_type": "code",
   "execution_count": 15,
   "metadata": {
    "colab": {
     "base_uri": "https://localhost:8080/"
    },
    "id": "23B6hJGjd6yp",
    "outputId": "4a0c7e1e-7e2a-46bd-caf6-40a480f5225d"
   },
   "outputs": [
    {
     "name": "stdout",
     "output_type": "stream",
     "text": [
      "Macro F1: 0.4736\n",
      "Weighted F1: 0.5678\n"
     ]
    }
   ],
   "source": [
    "from sklearn.metrics import f1_score\n",
    "\n",
    "# Predict class labels for the validation set\n",
    "y_pred = model.predict(X_val)\n",
    "\n",
    "# Flatten predictions (CatBoost may return shape (n, 1) as ndarray)\n",
    "y_pred = y_pred.ravel()\n",
    "\n",
    "# Compute F1 scores\n",
    "macro_f1 = f1_score(y_val, y_pred, average='macro')\n",
    "weighted_f1 = f1_score(y_val, y_pred, average='weighted')\n",
    "\n",
    "print(f\"Macro F1: {macro_f1:.4f}\")\n",
    "print(f\"Weighted F1: {weighted_f1:.4f}\")\n"
   ]
  },
  {
   "cell_type": "code",
   "execution_count": 16,
   "metadata": {},
   "outputs": [
    {
     "name": "stdout",
     "output_type": "stream",
     "text": [
      "0:\tlearn: 0.2978038\ttotal: 132ms\tremaining: 9.63s\n",
      "73:\tlearn: 0.4869692\ttotal: 7.44s\tremaining: 0us\n"
     ]
    },
    {
     "data": {
      "text/plain": [
       "<catboost.core.CatBoostClassifier at 0x22cd6aaa090>"
      ]
     },
     "execution_count": 16,
     "metadata": {},
     "output_type": "execute_result"
    }
   ],
   "source": [
    "# Final model training on all data\n",
    "final_model = CatBoostClassifier(\n",
    "    iterations=model.tree_count_,  # Use optimal iteration count\n",
    "    learning_rate=0.05,\n",
    "    depth=5,\n",
    "    loss_function='MultiClass',\n",
    "    eval_metric='TotalF1',\n",
    "    boosting_type='Ordered',\n",
    "    random_seed=20,\n",
    "    auto_class_weights='Balanced',\n",
    "    verbose=100\n",
    ")\n",
    "final_model.fit(X, y, cat_features=cat_features)\n"
   ]
  },
  {
   "cell_type": "code",
   "execution_count": 17,
   "metadata": {
    "id": "X2386Z3TZ4sI"
   },
   "outputs": [],
   "source": [
    "test_features_df = pd.read_csv(\"test_features.csv\")\n",
    "#\n",
    "test_outcomes_df = pd.read_csv(\"test_outcomes_Fun_template_update.csv\")\n",
    "metadata_df = pd.read_csv(\"metadata.csv\")"
   ]
  },
  {
   "cell_type": "code",
   "execution_count": 18,
   "metadata": {
    "id": "rVSmStOLZX1O"
   },
   "outputs": [],
   "source": [
    "\n",
    "testing_df = test_features_df.merge(test_outcomes_df, on=\"PID\", how=\"inner\")\n",
    "full_testing_df = testing_df.merge(metadata_df, on=\"PID\", how=\"inner\")"
   ]
  },
  {
   "cell_type": "code",
   "execution_count": 19,
   "metadata": {
    "id": "rpcVXdz7ZX3Z"
   },
   "outputs": [],
   "source": [
    "testing_df = full_testing_df[target_variables]"
   ]
  },
  {
   "cell_type": "code",
   "execution_count": 20,
   "metadata": {
    "id": "wvctihToZX5w"
   },
   "outputs": [],
   "source": [
    "test = testing_df.merge(test_outcomes_df, on=\"PID\", how=\"inner\")\n",
    "test = test.drop(columns=[\"time-DELETE THIS COLUMN FOR SUBMISSION\"], axis=1)"
   ]
  },
  {
   "cell_type": "code",
   "execution_count": 21,
   "metadata": {
    "id": "yb38a7R_IoPI"
   },
   "outputs": [],
   "source": [
    "test_final = test.drop(columns=[\"modben_x\", \"modben_y\", \"PID\"], axis=1)"
   ]
  },
  {
   "cell_type": "code",
   "execution_count": 22,
   "metadata": {
    "id": "CWmlOWxJJSS0"
   },
   "outputs": [],
   "source": [
    "for col in cat_features:\n",
    "    test_final[col] = test_final[col].astype(str).fillna(\"missing\")"
   ]
  },
  {
   "cell_type": "code",
   "execution_count": 23,
   "metadata": {
    "id": "baX17Ch3IoMs"
   },
   "outputs": [],
   "source": [
    "final_pred = model.predict(test_final)"
   ]
  },
  {
   "cell_type": "code",
   "execution_count": 24,
   "metadata": {
    "colab": {
     "base_uri": "https://localhost:8080/"
    },
    "id": "ecGwmxXLIoFs",
    "outputId": "1594388b-aeb7-4eb7-81c9-1d474790f9dc"
   },
   "outputs": [
    {
     "data": {
      "text/plain": [
       "118"
      ]
     },
     "execution_count": 24,
     "metadata": {},
     "output_type": "execute_result"
    }
   ],
   "source": [
    "len(final_pred)"
   ]
  },
  {
   "cell_type": "code",
   "execution_count": 25,
   "metadata": {
    "id": "OzdOniQoKIxs"
   },
   "outputs": [],
   "source": [
    "result_df = test_final.copy()\n",
    "result_df[\"modben\"] = final_pred.flatten()"
   ]
  },
  {
   "cell_type": "code",
   "execution_count": 26,
   "metadata": {
    "id": "TF_btNm2KI66"
   },
   "outputs": [],
   "source": [
    "result_df[\"PID\"] = test['PID']"
   ]
  },
  {
   "cell_type": "code",
   "execution_count": 27,
   "metadata": {
    "id": "dX38zPj8KJCG"
   },
   "outputs": [],
   "source": [
    "submission_df = result_df[[\"PID\", \"modben\"]]"
   ]
  },
  {
   "cell_type": "code",
   "execution_count": 28,
   "metadata": {},
   "outputs": [
    {
     "data": {
      "text/html": [
       "<div>\n",
       "<style scoped>\n",
       "    .dataframe tbody tr th:only-of-type {\n",
       "        vertical-align: middle;\n",
       "    }\n",
       "\n",
       "    .dataframe tbody tr th {\n",
       "        vertical-align: top;\n",
       "    }\n",
       "\n",
       "    .dataframe thead th {\n",
       "        text-align: right;\n",
       "    }\n",
       "</style>\n",
       "<table border=\"1\" class=\"dataframe\">\n",
       "  <thead>\n",
       "    <tr style=\"text-align: right;\">\n",
       "      <th></th>\n",
       "      <th>PID</th>\n",
       "      <th>modben</th>\n",
       "    </tr>\n",
       "  </thead>\n",
       "  <tbody>\n",
       "    <tr>\n",
       "      <th>0</th>\n",
       "      <td>PID_510</td>\n",
       "      <td>1.0</td>\n",
       "    </tr>\n",
       "    <tr>\n",
       "      <th>1</th>\n",
       "      <td>PID_448</td>\n",
       "      <td>1.0</td>\n",
       "    </tr>\n",
       "    <tr>\n",
       "      <th>2</th>\n",
       "      <td>PID_334</td>\n",
       "      <td>1.0</td>\n",
       "    </tr>\n",
       "    <tr>\n",
       "      <th>3</th>\n",
       "      <td>PID_581</td>\n",
       "      <td>1.0</td>\n",
       "    </tr>\n",
       "    <tr>\n",
       "      <th>4</th>\n",
       "      <td>PID_452</td>\n",
       "      <td>1.0</td>\n",
       "    </tr>\n",
       "    <tr>\n",
       "      <th>...</th>\n",
       "      <td>...</td>\n",
       "      <td>...</td>\n",
       "    </tr>\n",
       "    <tr>\n",
       "      <th>113</th>\n",
       "      <td>PID_147</td>\n",
       "      <td>6.0</td>\n",
       "    </tr>\n",
       "    <tr>\n",
       "      <th>114</th>\n",
       "      <td>PID_783</td>\n",
       "      <td>7.0</td>\n",
       "    </tr>\n",
       "    <tr>\n",
       "      <th>115</th>\n",
       "      <td>PID_114</td>\n",
       "      <td>7.0</td>\n",
       "    </tr>\n",
       "    <tr>\n",
       "      <th>116</th>\n",
       "      <td>PID_364</td>\n",
       "      <td>7.0</td>\n",
       "    </tr>\n",
       "    <tr>\n",
       "      <th>117</th>\n",
       "      <td>PID_688</td>\n",
       "      <td>6.0</td>\n",
       "    </tr>\n",
       "  </tbody>\n",
       "</table>\n",
       "<p>118 rows × 2 columns</p>\n",
       "</div>"
      ],
      "text/plain": [
       "         PID modben\n",
       "0    PID_510    1.0\n",
       "1    PID_448    1.0\n",
       "2    PID_334    1.0\n",
       "3    PID_581    1.0\n",
       "4    PID_452    1.0\n",
       "..       ...    ...\n",
       "113  PID_147    6.0\n",
       "114  PID_783    7.0\n",
       "115  PID_114    7.0\n",
       "116  PID_364    7.0\n",
       "117  PID_688    6.0\n",
       "\n",
       "[118 rows x 2 columns]"
      ]
     },
     "execution_count": 28,
     "metadata": {},
     "output_type": "execute_result"
    }
   ],
   "source": [
    "submission_df"
   ]
  },
  {
   "cell_type": "code",
   "execution_count": 29,
   "metadata": {
    "id": "abJaeGGKK4Gc"
   },
   "outputs": [],
   "source": [
    "# with open(f\"predicted_catboost.csv\", \"wb\") as input_csv:\n",
    "#     submission_df.to_csv(input_csv, index=False)"
   ]
  }
 ],
 "metadata": {
  "colab": {
   "provenance": []
  },
  "kernelspec": {
   "display_name": "Python 3",
   "language": "python",
   "name": "python3"
  },
  "language_info": {
   "codemirror_mode": {
    "name": "ipython",
    "version": 3
   },
   "file_extension": ".py",
   "mimetype": "text/x-python",
   "name": "python",
   "nbconvert_exporter": "python",
   "pygments_lexer": "ipython3",
   "version": "3.12.4"
  }
 },
 "nbformat": 4,
 "nbformat_minor": 4
}
